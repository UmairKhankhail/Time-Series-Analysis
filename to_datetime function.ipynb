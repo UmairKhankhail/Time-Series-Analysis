{
 "cells": [
  {
   "cell_type": "code",
   "execution_count": 2,
   "id": "a29fd3ac",
   "metadata": {},
   "outputs": [],
   "source": [
    "# for details see time series analysis series on codebasics channel\n",
    "import pandas as pd"
   ]
  },
  {
   "cell_type": "code",
   "execution_count": 32,
   "id": "ab77a244",
   "metadata": {},
   "outputs": [],
   "source": [
    "t=['2017-01-05','Jan 5,2017 2:30:00 AM']"
   ]
  },
  {
   "cell_type": "code",
   "execution_count": 33,
   "id": "5240c8ce",
   "metadata": {},
   "outputs": [
    {
     "data": {
      "text/plain": [
       "['2017-01-05', 'Jan 5,2017 2:30:00 AM']"
      ]
     },
     "execution_count": 33,
     "metadata": {},
     "output_type": "execute_result"
    }
   ],
   "source": [
    "t\n",
    "# this  function converts different time formats in string to standard datetime format"
   ]
  },
  {
   "cell_type": "code",
   "execution_count": 34,
   "id": "aad41d4a",
   "metadata": {},
   "outputs": [],
   "source": [
    "a=pd.to_datetime(t)"
   ]
  },
  {
   "cell_type": "code",
   "execution_count": 35,
   "id": "f7a33327",
   "metadata": {},
   "outputs": [
    {
     "data": {
      "text/plain": [
       "DatetimeIndex(['2017-01-05 00:00:00', '2017-01-05 02:30:00'], dtype='datetime64[ns]', freq=None)"
      ]
     },
     "execution_count": 35,
     "metadata": {},
     "output_type": "execute_result"
    }
   ],
   "source": [
    "a"
   ]
  },
  {
   "cell_type": "code",
   "execution_count": null,
   "id": "21a4f29c",
   "metadata": {},
   "outputs": [],
   "source": []
  }
 ],
 "metadata": {
  "kernelspec": {
   "display_name": "Python 3 (ipykernel)",
   "language": "python",
   "name": "python3"
  },
  "language_info": {
   "codemirror_mode": {
    "name": "ipython",
    "version": 3
   },
   "file_extension": ".py",
   "mimetype": "text/x-python",
   "name": "python",
   "nbconvert_exporter": "python",
   "pygments_lexer": "ipython3",
   "version": "3.9.7"
  }
 },
 "nbformat": 4,
 "nbformat_minor": 5
}

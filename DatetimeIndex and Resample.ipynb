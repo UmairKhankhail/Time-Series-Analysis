{
 "cells": [
  {
   "cell_type": "code",
   "execution_count": 1,
   "id": "fdf94d6a",
   "metadata": {},
   "outputs": [],
   "source": [
    "import pandas as pd"
   ]
  },
  {
   "cell_type": "code",
   "execution_count": 14,
   "id": "1b7d7337",
   "metadata": {},
   "outputs": [],
   "source": [
    "data=pd.read_csv(\"HistoricalData.csv\",parse_dates=[\"Date\"],index_col=['Date'])  # here we convert the date column data type to datetime\n",
    "# and make the dates as index, so that we could easily extract data of particular dates"
   ]
  },
  {
   "cell_type": "markdown",
   "id": "4ec4dd29",
   "metadata": {},
   "source": [
    "type(data['Date'][0])  # to check the data type of date column"
   ]
  },
  {
   "cell_type": "code",
   "execution_count": 16,
   "id": "db686257",
   "metadata": {},
   "outputs": [
    {
     "data": {
      "text/html": [
       "<div>\n",
       "<style scoped>\n",
       "    .dataframe tbody tr th:only-of-type {\n",
       "        vertical-align: middle;\n",
       "    }\n",
       "\n",
       "    .dataframe tbody tr th {\n",
       "        vertical-align: top;\n",
       "    }\n",
       "\n",
       "    .dataframe thead th {\n",
       "        text-align: right;\n",
       "    }\n",
       "</style>\n",
       "<table border=\"1\" class=\"dataframe\">\n",
       "  <thead>\n",
       "    <tr style=\"text-align: right;\">\n",
       "      <th></th>\n",
       "      <th>Close/Last</th>\n",
       "      <th>Volume</th>\n",
       "      <th>Open</th>\n",
       "      <th>High</th>\n",
       "      <th>Low</th>\n",
       "    </tr>\n",
       "    <tr>\n",
       "      <th>Date</th>\n",
       "      <th></th>\n",
       "      <th></th>\n",
       "      <th></th>\n",
       "      <th></th>\n",
       "      <th></th>\n",
       "    </tr>\n",
       "  </thead>\n",
       "  <tbody>\n",
       "    <tr>\n",
       "      <th>2021-10-22</th>\n",
       "      <td>$148.69</td>\n",
       "      <td>58883440</td>\n",
       "      <td>$149.69</td>\n",
       "      <td>$150.18</td>\n",
       "      <td>$148.64</td>\n",
       "    </tr>\n",
       "    <tr>\n",
       "      <th>2021-10-21</th>\n",
       "      <td>$149.48</td>\n",
       "      <td>61420990</td>\n",
       "      <td>$148.81</td>\n",
       "      <td>$149.64</td>\n",
       "      <td>$147.87</td>\n",
       "    </tr>\n",
       "    <tr>\n",
       "      <th>2021-10-20</th>\n",
       "      <td>$149.26</td>\n",
       "      <td>58418790</td>\n",
       "      <td>$148.7</td>\n",
       "      <td>$149.7539</td>\n",
       "      <td>$148.12</td>\n",
       "    </tr>\n",
       "    <tr>\n",
       "      <th>2021-10-19</th>\n",
       "      <td>$148.76</td>\n",
       "      <td>76378890</td>\n",
       "      <td>$147.01</td>\n",
       "      <td>$149.17</td>\n",
       "      <td>$146.55</td>\n",
       "    </tr>\n",
       "    <tr>\n",
       "      <th>2021-10-18</th>\n",
       "      <td>$146.55</td>\n",
       "      <td>85589180</td>\n",
       "      <td>$143.445</td>\n",
       "      <td>$146.84</td>\n",
       "      <td>$143.16</td>\n",
       "    </tr>\n",
       "  </tbody>\n",
       "</table>\n",
       "</div>"
      ],
      "text/plain": [
       "           Close/Last    Volume      Open       High      Low\n",
       "Date                                                         \n",
       "2021-10-22    $148.69  58883440   $149.69    $150.18  $148.64\n",
       "2021-10-21    $149.48  61420990   $148.81    $149.64  $147.87\n",
       "2021-10-20    $149.26  58418790    $148.7  $149.7539  $148.12\n",
       "2021-10-19    $148.76  76378890   $147.01    $149.17  $146.55\n",
       "2021-10-18    $146.55  85589180  $143.445    $146.84  $143.16"
      ]
     },
     "execution_count": 16,
     "metadata": {},
     "output_type": "execute_result"
    }
   ],
   "source": [
    "data.head()"
   ]
  },
  {
   "cell_type": "code",
   "execution_count": 20,
   "id": "afdcb99a",
   "metadata": {},
   "outputs": [
    {
     "data": {
      "text/html": [
       "<div>\n",
       "<style scoped>\n",
       "    .dataframe tbody tr th:only-of-type {\n",
       "        vertical-align: middle;\n",
       "    }\n",
       "\n",
       "    .dataframe tbody tr th {\n",
       "        vertical-align: top;\n",
       "    }\n",
       "\n",
       "    .dataframe thead th {\n",
       "        text-align: right;\n",
       "    }\n",
       "</style>\n",
       "<table border=\"1\" class=\"dataframe\">\n",
       "  <thead>\n",
       "    <tr style=\"text-align: right;\">\n",
       "      <th></th>\n",
       "      <th>Close/Last</th>\n",
       "      <th>Volume</th>\n",
       "      <th>Open</th>\n",
       "      <th>High</th>\n",
       "      <th>Low</th>\n",
       "    </tr>\n",
       "    <tr>\n",
       "      <th>Date</th>\n",
       "      <th></th>\n",
       "      <th></th>\n",
       "      <th></th>\n",
       "      <th></th>\n",
       "      <th></th>\n",
       "    </tr>\n",
       "  </thead>\n",
       "  <tbody>\n",
       "    <tr>\n",
       "      <th>2021-10-22</th>\n",
       "      <td>$148.69</td>\n",
       "      <td>58883440</td>\n",
       "      <td>$149.69</td>\n",
       "      <td>$150.18</td>\n",
       "      <td>$148.64</td>\n",
       "    </tr>\n",
       "    <tr>\n",
       "      <th>2021-10-21</th>\n",
       "      <td>$149.48</td>\n",
       "      <td>61420990</td>\n",
       "      <td>$148.81</td>\n",
       "      <td>$149.64</td>\n",
       "      <td>$147.87</td>\n",
       "    </tr>\n",
       "    <tr>\n",
       "      <th>2021-10-20</th>\n",
       "      <td>$149.26</td>\n",
       "      <td>58418790</td>\n",
       "      <td>$148.7</td>\n",
       "      <td>$149.7539</td>\n",
       "      <td>$148.12</td>\n",
       "    </tr>\n",
       "    <tr>\n",
       "      <th>2021-10-19</th>\n",
       "      <td>$148.76</td>\n",
       "      <td>76378890</td>\n",
       "      <td>$147.01</td>\n",
       "      <td>$149.17</td>\n",
       "      <td>$146.55</td>\n",
       "    </tr>\n",
       "    <tr>\n",
       "      <th>2021-10-18</th>\n",
       "      <td>$146.55</td>\n",
       "      <td>85589180</td>\n",
       "      <td>$143.445</td>\n",
       "      <td>$146.84</td>\n",
       "      <td>$143.16</td>\n",
       "    </tr>\n",
       "  </tbody>\n",
       "</table>\n",
       "</div>"
      ],
      "text/plain": [
       "           Close/Last    Volume      Open       High      Low\n",
       "Date                                                         \n",
       "2021-10-22    $148.69  58883440   $149.69    $150.18  $148.64\n",
       "2021-10-21    $149.48  61420990   $148.81    $149.64  $147.87\n",
       "2021-10-20    $149.26  58418790    $148.7  $149.7539  $148.12\n",
       "2021-10-19    $148.76  76378890   $147.01    $149.17  $146.55\n",
       "2021-10-18    $146.55  85589180  $143.445    $146.84  $143.16"
      ]
     },
     "execution_count": 20,
     "metadata": {},
     "output_type": "execute_result"
    }
   ],
   "source": [
    "data.loc['2021'].head()"
   ]
  },
  {
   "cell_type": "code",
   "execution_count": 34,
   "id": "50c16afe",
   "metadata": {},
   "outputs": [
    {
     "data": {
      "text/html": [
       "<div>\n",
       "<style scoped>\n",
       "    .dataframe tbody tr th:only-of-type {\n",
       "        vertical-align: middle;\n",
       "    }\n",
       "\n",
       "    .dataframe tbody tr th {\n",
       "        vertical-align: top;\n",
       "    }\n",
       "\n",
       "    .dataframe thead th {\n",
       "        text-align: right;\n",
       "    }\n",
       "</style>\n",
       "<table border=\"1\" class=\"dataframe\">\n",
       "  <thead>\n",
       "    <tr style=\"text-align: right;\">\n",
       "      <th></th>\n",
       "      <th>Close/Last</th>\n",
       "      <th>Volume</th>\n",
       "      <th>Open</th>\n",
       "      <th>High</th>\n",
       "      <th>Low</th>\n",
       "    </tr>\n",
       "    <tr>\n",
       "      <th>Date</th>\n",
       "      <th></th>\n",
       "      <th></th>\n",
       "      <th></th>\n",
       "      <th></th>\n",
       "      <th></th>\n",
       "    </tr>\n",
       "  </thead>\n",
       "  <tbody>\n",
       "    <tr>\n",
       "      <th>2021-10-22</th>\n",
       "      <td>$148.69</td>\n",
       "      <td>58883440</td>\n",
       "      <td>$149.69</td>\n",
       "      <td>$150.18</td>\n",
       "      <td>$148.64</td>\n",
       "    </tr>\n",
       "    <tr>\n",
       "      <th>2021-10-21</th>\n",
       "      <td>$149.48</td>\n",
       "      <td>61420990</td>\n",
       "      <td>$148.81</td>\n",
       "      <td>$149.64</td>\n",
       "      <td>$147.87</td>\n",
       "    </tr>\n",
       "    <tr>\n",
       "      <th>2021-10-20</th>\n",
       "      <td>$149.26</td>\n",
       "      <td>58418790</td>\n",
       "      <td>$148.7</td>\n",
       "      <td>$149.7539</td>\n",
       "      <td>$148.12</td>\n",
       "    </tr>\n",
       "    <tr>\n",
       "      <th>2021-10-19</th>\n",
       "      <td>$148.76</td>\n",
       "      <td>76378890</td>\n",
       "      <td>$147.01</td>\n",
       "      <td>$149.17</td>\n",
       "      <td>$146.55</td>\n",
       "    </tr>\n",
       "    <tr>\n",
       "      <th>2021-10-18</th>\n",
       "      <td>$146.55</td>\n",
       "      <td>85589180</td>\n",
       "      <td>$143.445</td>\n",
       "      <td>$146.84</td>\n",
       "      <td>$143.16</td>\n",
       "    </tr>\n",
       "    <tr>\n",
       "      <th>2021-10-15</th>\n",
       "      <td>$144.84</td>\n",
       "      <td>67940330</td>\n",
       "      <td>$143.77</td>\n",
       "      <td>$144.895</td>\n",
       "      <td>$143.51</td>\n",
       "    </tr>\n",
       "    <tr>\n",
       "      <th>2021-10-14</th>\n",
       "      <td>$143.76</td>\n",
       "      <td>69907100</td>\n",
       "      <td>$142.11</td>\n",
       "      <td>$143.88</td>\n",
       "      <td>$141.51</td>\n",
       "    </tr>\n",
       "    <tr>\n",
       "      <th>2021-10-13</th>\n",
       "      <td>$140.91</td>\n",
       "      <td>78762720</td>\n",
       "      <td>$141.235</td>\n",
       "      <td>$141.4</td>\n",
       "      <td>$139.2</td>\n",
       "    </tr>\n",
       "    <tr>\n",
       "      <th>2021-10-12</th>\n",
       "      <td>$141.51</td>\n",
       "      <td>73035860</td>\n",
       "      <td>$143.23</td>\n",
       "      <td>$143.25</td>\n",
       "      <td>$141.0401</td>\n",
       "    </tr>\n",
       "    <tr>\n",
       "      <th>2021-10-11</th>\n",
       "      <td>$142.81</td>\n",
       "      <td>64452220</td>\n",
       "      <td>$142.27</td>\n",
       "      <td>$144.81</td>\n",
       "      <td>$141.81</td>\n",
       "    </tr>\n",
       "    <tr>\n",
       "      <th>2021-10-08</th>\n",
       "      <td>$142.9</td>\n",
       "      <td>58773160</td>\n",
       "      <td>$144.03</td>\n",
       "      <td>$144.1781</td>\n",
       "      <td>$142.56</td>\n",
       "    </tr>\n",
       "    <tr>\n",
       "      <th>2021-10-07</th>\n",
       "      <td>$143.29</td>\n",
       "      <td>61732660</td>\n",
       "      <td>$143.06</td>\n",
       "      <td>$144.215</td>\n",
       "      <td>$142.72</td>\n",
       "    </tr>\n",
       "  </tbody>\n",
       "</table>\n",
       "</div>"
      ],
      "text/plain": [
       "           Close/Last    Volume      Open       High        Low\n",
       "Date                                                           \n",
       "2021-10-22    $148.69  58883440   $149.69    $150.18    $148.64\n",
       "2021-10-21    $149.48  61420990   $148.81    $149.64    $147.87\n",
       "2021-10-20    $149.26  58418790    $148.7  $149.7539    $148.12\n",
       "2021-10-19    $148.76  76378890   $147.01    $149.17    $146.55\n",
       "2021-10-18    $146.55  85589180  $143.445    $146.84    $143.16\n",
       "2021-10-15    $144.84  67940330   $143.77   $144.895    $143.51\n",
       "2021-10-14    $143.76  69907100   $142.11    $143.88    $141.51\n",
       "2021-10-13    $140.91  78762720  $141.235     $141.4     $139.2\n",
       "2021-10-12    $141.51  73035860   $143.23    $143.25  $141.0401\n",
       "2021-10-11    $142.81  64452220   $142.27    $144.81    $141.81\n",
       "2021-10-08     $142.9  58773160   $144.03  $144.1781    $142.56\n",
       "2021-10-07    $143.29  61732660   $143.06   $144.215    $142.72"
      ]
     },
     "execution_count": 34,
     "metadata": {},
     "output_type": "execute_result"
    }
   ],
   "source": [
    "data[\"2021-10-06\":\"2021-10-22\"]   # retrieve data between paritcular range"
   ]
  },
  {
   "cell_type": "code",
   "execution_count": 72,
   "id": "0d820938",
   "metadata": {},
   "outputs": [
    {
     "data": {
      "text/plain": [
       "(20, 5)"
      ]
     },
     "execution_count": 72,
     "metadata": {},
     "output_type": "execute_result"
    }
   ],
   "source": [
    "data.index\n",
    "data.shape\n"
   ]
  },
  {
   "cell_type": "code",
   "execution_count": null,
   "id": "de2a2420",
   "metadata": {},
   "outputs": [],
   "source": [
    "data['Close/Last']=data['Close/Last'].str.replace('$','').astype(float)  # remove $ sign from close series and changed its type\n",
    "data['Close/Last']"
   ]
  },
  {
   "cell_type": "code",
   "execution_count": 57,
   "id": "e986b268",
   "metadata": {},
   "outputs": [
    {
     "data": {
      "text/plain": [
       "143.96349999999998"
      ]
     },
     "execution_count": 57,
     "metadata": {},
     "output_type": "execute_result"
    }
   ],
   "source": [
    "data['Close/Last'].mean()"
   ]
  },
  {
   "cell_type": "code",
   "execution_count": 64,
   "id": "eeb00e92",
   "metadata": {},
   "outputs": [],
   "source": [
    "data=data.rename(columns={'Close/Last':'Close'})  # renamed a column"
   ]
  },
  {
   "cell_type": "code",
   "execution_count": 67,
   "id": "7c544c10",
   "metadata": {},
   "outputs": [
    {
     "data": {
      "text/plain": [
       "Date\n",
       "2021-09-30    142.90250\n",
       "2021-10-31    144.22875\n",
       "Freq: M, Name: Close, dtype: float64"
      ]
     },
     "execution_count": 67,
     "metadata": {},
     "output_type": "execute_result"
    }
   ],
   "source": [
    "data['Close'].resample('M').mean()"
   ]
  },
  {
   "cell_type": "code",
   "execution_count": 87,
   "id": "3bfd2edc",
   "metadata": {},
   "outputs": [],
   "source": [
    "data.drop('date',axis=1,inplace=True)"
   ]
  },
  {
   "cell_type": "code",
   "execution_count": 92,
   "id": "c968f687",
   "metadata": {},
   "outputs": [
    {
     "data": {
      "text/plain": [
       "<AxesSubplot:xlabel='Date'>"
      ]
     },
     "execution_count": 92,
     "metadata": {},
     "output_type": "execute_result"
    },
    {
     "data": {
      "image/png": "[encoded data removed]",
      "text/plain": [
       "<Figure size 432x288 with 1 Axes>"
      ]
     },
     "metadata": {
      "needs_background": "light"
     },
     "output_type": "display_data"
    }
   ],
   "source": [
    "%matplotlib inline\n",
    "data['Close'].resample('W').mean().plot()"
   ]
  },
  {
   "cell_type": "code",
   "execution_count": null,
   "id": "893932d6",
   "metadata": {},
   "outputs": [],
   "source": [
    "# R"
   ]
  }
 ],
 "metadata": {
  "kernelspec": {
   "display_name": "Python 3 (ipykernel)",
   "language": "python",
   "name": "python3"
  },
  "language_info": {
   "codemirror_mode": {
    "name": "ipython",
    "version": 3
   },
   "file_extension": ".py",
   "mimetype": "text/x-python",
   "name": "python",
   "nbconvert_exporter": "python",
   "pygments_lexer": "ipython3",
   "version": "3.9.7"
  }
 },
 "nbformat": 4,
 "nbformat_minor": 5
}

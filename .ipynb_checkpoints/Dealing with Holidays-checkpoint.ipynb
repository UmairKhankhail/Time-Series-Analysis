{
 "cells": [
  {
   "cell_type": "code",
   "execution_count": 1,
   "id": "e76abb2c",
   "metadata": {},
   "outputs": [],
   "source": [
    "import pandas as pd"
   ]
  },
  {
   "cell_type": "code",
   "execution_count": 2,
   "id": "8f2a9ab2",
   "metadata": {},
   "outputs": [],
   "source": [
    "data=pd.read_csv(\"AppleHistData.csv\")"
   ]
  },
  {
   "cell_type": "code",
   "execution_count": 10,
   "id": "cb0b09d9",
   "metadata": {},
   "outputs": [],
   "source": [
    "dates=pd.date_range(end=\"10-26-2021\",periods=1258,freq=\"B\")"
   ]
  },
  {
   "cell_type": "code",
   "execution_count": 11,
   "id": "15107718",
   "metadata": {},
   "outputs": [],
   "source": [
    "data=data.set_index(dates)"
   ]
  },
  {
   "cell_type": "code",
   "execution_count": 12,
   "id": "60efe7ce",
   "metadata": {},
   "outputs": [
    {
     "data": {
      "text/html": [
       "<div>\n",
       "<style scoped>\n",
       "    .dataframe tbody tr th:only-of-type {\n",
       "        vertical-align: middle;\n",
       "    }\n",
       "\n",
       "    .dataframe tbody tr th {\n",
       "        vertical-align: top;\n",
       "    }\n",
       "\n",
       "    .dataframe thead th {\n",
       "        text-align: right;\n",
       "    }\n",
       "</style>\n",
       "<table border=\"1\" class=\"dataframe\">\n",
       "  <thead>\n",
       "    <tr style=\"text-align: right;\">\n",
       "      <th></th>\n",
       "      <th>Open</th>\n",
       "      <th>High</th>\n",
       "      <th>Low</th>\n",
       "      <th>Close</th>\n",
       "      <th>Adj Close</th>\n",
       "      <th>Volume</th>\n",
       "    </tr>\n",
       "  </thead>\n",
       "  <tbody>\n",
       "    <tr>\n",
       "      <th>2021-10-18</th>\n",
       "      <td>142.110001</td>\n",
       "      <td>143.880005</td>\n",
       "      <td>141.509995</td>\n",
       "      <td>143.759995</td>\n",
       "      <td>143.759995</td>\n",
       "      <td>69907100</td>\n",
       "    </tr>\n",
       "    <tr>\n",
       "      <th>2021-10-19</th>\n",
       "      <td>143.770004</td>\n",
       "      <td>144.899994</td>\n",
       "      <td>143.509995</td>\n",
       "      <td>144.839996</td>\n",
       "      <td>144.839996</td>\n",
       "      <td>67885200</td>\n",
       "    </tr>\n",
       "    <tr>\n",
       "      <th>2021-10-20</th>\n",
       "      <td>143.449997</td>\n",
       "      <td>146.839996</td>\n",
       "      <td>143.160004</td>\n",
       "      <td>146.550003</td>\n",
       "      <td>146.550003</td>\n",
       "      <td>85589200</td>\n",
       "    </tr>\n",
       "    <tr>\n",
       "      <th>2021-10-21</th>\n",
       "      <td>147.009995</td>\n",
       "      <td>149.169998</td>\n",
       "      <td>146.550003</td>\n",
       "      <td>148.759995</td>\n",
       "      <td>148.759995</td>\n",
       "      <td>76378900</td>\n",
       "    </tr>\n",
       "    <tr>\n",
       "      <th>2021-10-22</th>\n",
       "      <td>148.699997</td>\n",
       "      <td>149.750000</td>\n",
       "      <td>148.119995</td>\n",
       "      <td>149.259995</td>\n",
       "      <td>149.259995</td>\n",
       "      <td>58418800</td>\n",
       "    </tr>\n",
       "    <tr>\n",
       "      <th>2021-10-25</th>\n",
       "      <td>148.809998</td>\n",
       "      <td>149.639999</td>\n",
       "      <td>147.869995</td>\n",
       "      <td>149.479996</td>\n",
       "      <td>149.479996</td>\n",
       "      <td>61421000</td>\n",
       "    </tr>\n",
       "    <tr>\n",
       "      <th>2021-10-26</th>\n",
       "      <td>149.690002</td>\n",
       "      <td>150.179993</td>\n",
       "      <td>148.639999</td>\n",
       "      <td>148.690002</td>\n",
       "      <td>148.690002</td>\n",
       "      <td>58839600</td>\n",
       "    </tr>\n",
       "  </tbody>\n",
       "</table>\n",
       "</div>"
      ],
      "text/plain": [
       "                  Open        High         Low       Close   Adj Close  \\\n",
       "2021-10-18  142.110001  143.880005  141.509995  143.759995  143.759995   \n",
       "2021-10-19  143.770004  144.899994  143.509995  144.839996  144.839996   \n",
       "2021-10-20  143.449997  146.839996  143.160004  146.550003  146.550003   \n",
       "2021-10-21  147.009995  149.169998  146.550003  148.759995  148.759995   \n",
       "2021-10-22  148.699997  149.750000  148.119995  149.259995  149.259995   \n",
       "2021-10-25  148.809998  149.639999  147.869995  149.479996  149.479996   \n",
       "2021-10-26  149.690002  150.179993  148.639999  148.690002  148.690002   \n",
       "\n",
       "              Volume  \n",
       "2021-10-18  69907100  \n",
       "2021-10-19  67885200  \n",
       "2021-10-20  85589200  \n",
       "2021-10-21  76378900  \n",
       "2021-10-22  58418800  \n",
       "2021-10-25  61421000  \n",
       "2021-10-26  58839600  "
      ]
     },
     "execution_count": 12,
     "metadata": {},
     "output_type": "execute_result"
    }
   ],
   "source": [
    "data.tail(7)"
   ]
  },
  {
   "cell_type": "code",
   "execution_count": 15,
   "id": "ef7abf01",
   "metadata": {},
   "outputs": [
    {
     "data": {
      "text/html": [
       "<div>\n",
       "<style scoped>\n",
       "    .dataframe tbody tr th:only-of-type {\n",
       "        vertical-align: middle;\n",
       "    }\n",
       "\n",
       "    .dataframe tbody tr th {\n",
       "        vertical-align: top;\n",
       "    }\n",
       "\n",
       "    .dataframe thead th {\n",
       "        text-align: right;\n",
       "    }\n",
       "</style>\n",
       "<table border=\"1\" class=\"dataframe\">\n",
       "  <thead>\n",
       "    <tr style=\"text-align: right;\">\n",
       "      <th></th>\n",
       "      <th>Open</th>\n",
       "      <th>High</th>\n",
       "      <th>Low</th>\n",
       "      <th>Close</th>\n",
       "      <th>Adj Close</th>\n",
       "      <th>Volume</th>\n",
       "    </tr>\n",
       "  </thead>\n",
       "  <tbody>\n",
       "    <tr>\n",
       "      <th>2021-03-17</th>\n",
       "      <td>119.029999</td>\n",
       "      <td>122.059998</td>\n",
       "      <td>118.790001</td>\n",
       "      <td>121.089996</td>\n",
       "      <td>120.703819</td>\n",
       "      <td>129525800</td>\n",
       "    </tr>\n",
       "    <tr>\n",
       "      <th>2021-03-18</th>\n",
       "      <td>121.690002</td>\n",
       "      <td>122.169998</td>\n",
       "      <td>119.449997</td>\n",
       "      <td>119.980003</td>\n",
       "      <td>119.597366</td>\n",
       "      <td>111943300</td>\n",
       "    </tr>\n",
       "    <tr>\n",
       "      <th>2021-03-19</th>\n",
       "      <td>122.540001</td>\n",
       "      <td>123.209999</td>\n",
       "      <td>121.260002</td>\n",
       "      <td>121.959999</td>\n",
       "      <td>121.571045</td>\n",
       "      <td>103026500</td>\n",
       "    </tr>\n",
       "    <tr>\n",
       "      <th>2021-03-22</th>\n",
       "      <td>120.400002</td>\n",
       "      <td>121.169998</td>\n",
       "      <td>119.160004</td>\n",
       "      <td>121.029999</td>\n",
       "      <td>120.644012</td>\n",
       "      <td>88105100</td>\n",
       "    </tr>\n",
       "    <tr>\n",
       "      <th>2021-03-23</th>\n",
       "      <td>121.410004</td>\n",
       "      <td>124.000000</td>\n",
       "      <td>120.419998</td>\n",
       "      <td>123.989998</td>\n",
       "      <td>123.594566</td>\n",
       "      <td>92403800</td>\n",
       "    </tr>\n",
       "  </tbody>\n",
       "</table>\n",
       "</div>"
      ],
      "text/plain": [
       "                  Open        High         Low       Close   Adj Close  \\\n",
       "2021-03-17  119.029999  122.059998  118.790001  121.089996  120.703819   \n",
       "2021-03-18  121.690002  122.169998  119.449997  119.980003  119.597366   \n",
       "2021-03-19  122.540001  123.209999  121.260002  121.959999  121.571045   \n",
       "2021-03-22  120.400002  121.169998  119.160004  121.029999  120.644012   \n",
       "2021-03-23  121.410004  124.000000  120.419998  123.989998  123.594566   \n",
       "\n",
       "               Volume  \n",
       "2021-03-17  129525800  \n",
       "2021-03-18  111943300  \n",
       "2021-03-19  103026500  \n",
       "2021-03-22   88105100  \n",
       "2021-03-23   92403800  "
      ]
     },
     "execution_count": 15,
     "metadata": {},
     "output_type": "execute_result"
    }
   ],
   "source": [
    "data[\"2021-03-17\":\"2021-03-23\"]    # but 23rd March is off in Pakistan, now for this kind of problems we have to customize our calender\n",
    "\n",
    "# the defualt calender shows holidays acc. to USA"
   ]
  },
  {
   "cell_type": "code",
   "execution_count": 24,
   "id": "66f20596",
   "metadata": {},
   "outputs": [],
   "source": [
    "#to import USA holiday calender\n",
    "from pandas.tseries.holiday import USFederalHolidayCalendar\n",
    "from pandas.tseries.offsets import CustomBusinessDay\n",
    "\n",
    "# create instance of custombusiness day\n",
    "\n",
    "usb=CustomBusinessDay(calendar=USFederalHolidayCalendar())\n"
   ]
  },
  {
   "cell_type": "code",
   "execution_count": 25,
   "id": "3302d33e",
   "metadata": {},
   "outputs": [],
   "source": [
    "\n",
    "american_calender_dates=pd.date_range(end=\"10-26-2021\",periods=1258,freq=usb)"
   ]
  },
  {
   "cell_type": "code",
   "execution_count": 26,
   "id": "0f2d4deb",
   "metadata": {},
   "outputs": [
    {
     "data": {
      "text/plain": [
       "DatetimeIndex(['2016-10-21', '2016-10-24', '2016-10-25', '2016-10-26',\n",
       "               '2016-10-27', '2016-10-28', '2016-10-31', '2016-11-01',\n",
       "               '2016-11-02', '2016-11-03',\n",
       "               ...\n",
       "               '2021-10-13', '2021-10-14', '2021-10-15', '2021-10-18',\n",
       "               '2021-10-19', '2021-10-20', '2021-10-21', '2021-10-22',\n",
       "               '2021-10-25', '2021-10-26'],\n",
       "              dtype='datetime64[ns]', length=1258, freq='C')"
      ]
     },
     "execution_count": 26,
     "metadata": {},
     "output_type": "execute_result"
    }
   ],
   "source": [
    "american_calender_dates"
   ]
  },
  {
   "cell_type": "code",
   "execution_count": 30,
   "id": "cf182398",
   "metadata": {},
   "outputs": [],
   "source": [
    "from pandas.tseries.holiday import AbstractHolidayCalendar, nearest_workday, Holiday\n",
    "\n",
    "class USFederalHolidayCalendar(AbstractHolidayCalendar):\n",
    "    \"\"\"\n",
    "    US Federal Government Holiday Calendar based on rules specified by:\n",
    "    https://www.opm.gov/policy-data-oversight/\n",
    "       snow-dismissal-procedures/federal-holidays/\n",
    "    \"\"\"\n",
    "\n",
    "    rules = [\n",
    "        Holiday(\"Umair's BirthDay\", month=2, day=5, observance=nearest_workday),\n",
    "       \n",
    "    ]\n",
    "my_calendar=CustomBusinessDay(calendar=USFederalHolidayCalendar())"
   ]
  },
  {
   "cell_type": "code",
   "execution_count": 35,
   "id": "7966bee7",
   "metadata": {},
   "outputs": [],
   "source": [
    "my_holiday=pd.date_range(start=\"02-01-2021\",periods=10,freq=my_calendar)"
   ]
  },
  {
   "cell_type": "code",
   "execution_count": 37,
   "id": "994d8134",
   "metadata": {},
   "outputs": [
    {
     "data": {
      "text/plain": [
       "DatetimeIndex(['2021-02-01', '2021-02-02', '2021-02-03', '2021-02-04',\n",
       "               '2021-02-08', '2021-02-09', '2021-02-10', '2021-02-11',\n",
       "               '2021-02-12', '2021-02-15'],\n",
       "              dtype='datetime64[ns]', freq='C')"
      ]
     },
     "execution_count": 37,
     "metadata": {},
     "output_type": "execute_result"
    }
   ],
   "source": [
    "my_holiday  # you can here is no 5th Feb bec. it is my birthday and it is holiday"
   ]
  },
  {
   "cell_type": "code",
   "execution_count": 45,
   "id": "a52e3228",
   "metadata": {},
   "outputs": [],
   "source": [
    "# now if i say in Dubai we have holiday on Friday, then;\n",
    "\n",
    "dubai=CustomBusinessDay(weekmask='Sun Mon Tue Wed Thu',holidays=[\"2021-07-04\"])"
   ]
  },
  {
   "cell_type": "code",
   "execution_count": 48,
   "id": "da05f19c",
   "metadata": {},
   "outputs": [
    {
     "data": {
      "text/plain": [
       "DatetimeIndex(['2021-07-01', '2021-07-05', '2021-07-06', '2021-07-07',\n",
       "               '2021-07-08', '2021-07-11', '2021-07-12', '2021-07-13',\n",
       "               '2021-07-14', '2021-07-15'],\n",
       "              dtype='datetime64[ns]', freq='C')"
      ]
     },
     "execution_count": 48,
     "metadata": {},
     "output_type": "execute_result"
    }
   ],
   "source": [
    "my_holiday=pd.date_range(start=\"07-01-2021\",periods=10,freq=dubai)\n",
    "my_holiday"
   ]
  },
  {
   "cell_type": "code",
   "execution_count": null,
   "id": "586343a0",
   "metadata": {},
   "outputs": [],
   "source": [
    "m"
   ]
  }
 ],
 "metadata": {
  "kernelspec": {
   "display_name": "Python 3 (ipykernel)",
   "language": "python",
   "name": "python3"
  },
  "language_info": {
   "codemirror_mode": {
    "name": "ipython",
    "version": 3
   },
   "file_extension": ".py",
   "mimetype": "text/x-python",
   "name": "python",
   "nbconvert_exporter": "python",
   "pygments_lexer": "ipython3",
   "version": "3.9.7"
  }
 },
 "nbformat": 4,
 "nbformat_minor": 5
}
